{
 "cells": [
  {
   "cell_type": "code",
   "execution_count": 1,
   "metadata": {},
   "outputs": [],
   "source": [
    "# install libraries\n",
    "\n",
    "%matplotlib inline\n",
    "import pandas as pd\n",
    "import numpy as np\n",
    "import seaborn as sns\n",
    "import matplotlib.pyplot as plt\n",
    "\n",
    "from sklearn.preprocessing import LabelEncoder, OneHotEncoder, OrdinalEncoder\n",
    "from sklearn.impute import SimpleImputer\n",
    "from sklearn.model_selection import train_test_split, cross_val_score\n",
    "from sklearn.ensemble import RandomForestRegressor\n",
    "from sklearn.metrics import mean_absolute_error, r2_score\n",
    "from sklearn.ensemble import GradientBoostingRegressor\n",
    "pd.set_option(\"display.max_columns\", 101)"
   ]
  },
  {
   "cell_type": "code",
   "execution_count": 2,
   "metadata": {},
   "outputs": [
    {
     "name": "stdout",
     "output_type": "stream",
     "text": [
      "Populating the interactive namespace from numpy and matplotlib\n"
     ]
    }
   ],
   "source": [
    "%pylab inline"
   ]
  },
  {
   "cell_type": "markdown",
   "metadata": {},
   "source": [
    "Column | Description\n",
    ":---|:---\n",
    "`surface_area` | The total area in square kilometers\n",
    "`agricultural_land` | The agricultural land of the total area in square kilometers \n",
    "`forest_area` | The forest area in the total area in square kilometers\n",
    "`armed_forces_total` | The count of armed forces paid by this geographical area\n",
    "`urban_pop_major_cities` | The percent of the total population dwelling in major cities\n",
    "`urban_pop_minor_cities` | The percent of the total population dwelling in minor cities\n",
    "`national_income` | National Income as an ordinal categorical variable\n",
    "`inflation_annual` | Yearly Inflation Rate\n",
    "`inflation_monthly` | Average Monthly Inflation Rate = annual inflation/12\n",
    "`inflation_weekly` | Average Weekly Inflation Rate = annual inflation/52\n",
    "`mobile_subscriptions` | Describes the number of mobile subscriptions per person \n",
    "`internet_users` | The average number of people using the internet in a range of 100 or 1000 people\n",
    "`secure_internet_servers_total` | The actual number of secure internet servers in the area\n",
    "`improved_sanitation` | The known access of the population to improved sanitation facilities\n",
    "`women_parliament_seats_rate ` | Describes the percent range of parliament seats occupied by women\n",
    "`life_expectancy` | Years of life an average person is expected to live in this area (target variable)."
   ]
  },
  {
   "cell_type": "markdown",
   "metadata": {},
   "source": [
    "## Data Wrangling & Visualization (подготовка данных и визуализация)"
   ]
  },
  {
   "cell_type": "code",
   "execution_count": 3,
   "metadata": {},
   "outputs": [],
   "source": [
    "# Dataset is already loaded below (загрузка данных из csv-файла)\n",
    "\n",
    "df = pd.read_csv(\"train.csv\",index_col=0)"
   ]
  },
  {
   "cell_type": "code",
   "execution_count": 4,
   "metadata": {},
   "outputs": [
    {
     "data": {
      "text/html": [
       "<div>\n",
       "<style scoped>\n",
       "    .dataframe tbody tr th:only-of-type {\n",
       "        vertical-align: middle;\n",
       "    }\n",
       "\n",
       "    .dataframe tbody tr th {\n",
       "        vertical-align: top;\n",
       "    }\n",
       "\n",
       "    .dataframe thead th {\n",
       "        text-align: right;\n",
       "    }\n",
       "</style>\n",
       "<table border=\"1\" class=\"dataframe\">\n",
       "  <thead>\n",
       "    <tr style=\"text-align: right;\">\n",
       "      <th></th>\n",
       "      <th>surface_area</th>\n",
       "      <th>agricultural_land</th>\n",
       "      <th>forest_area</th>\n",
       "      <th>armed_forces_total</th>\n",
       "      <th>urban_pop_major_cities</th>\n",
       "      <th>urban_pop_minor_cities</th>\n",
       "      <th>national_income</th>\n",
       "      <th>inflation_annual</th>\n",
       "      <th>inflation_monthly</th>\n",
       "      <th>inflation_weekly</th>\n",
       "      <th>mobile_subscriptions</th>\n",
       "      <th>internet_users</th>\n",
       "      <th>secure_internet_servers_total</th>\n",
       "      <th>improved_sanitation</th>\n",
       "      <th>women_parliament_seats_rate</th>\n",
       "      <th>life_expectancy</th>\n",
       "    </tr>\n",
       "  </thead>\n",
       "  <tbody>\n",
       "    <tr>\n",
       "      <th>0</th>\n",
       "      <td>120540.0</td>\n",
       "      <td>2.632839e+06</td>\n",
       "      <td>5.417843e+06</td>\n",
       "      <td>1379000.0</td>\n",
       "      <td>55.747169</td>\n",
       "      <td>4.688831</td>\n",
       "      <td>unknown</td>\n",
       "      <td>NaN</td>\n",
       "      <td>NaN</td>\n",
       "      <td>NaN</td>\n",
       "      <td>less than 1 per person</td>\n",
       "      <td>0 per 1000 people</td>\n",
       "      <td>NaN</td>\n",
       "      <td>high access</td>\n",
       "      <td>[0%-25%)</td>\n",
       "      <td>69.494195</td>\n",
       "    </tr>\n",
       "    <tr>\n",
       "      <th>1</th>\n",
       "      <td>752610.0</td>\n",
       "      <td>2.403039e+07</td>\n",
       "      <td>4.957554e+07</td>\n",
       "      <td>16500.0</td>\n",
       "      <td>16.890687</td>\n",
       "      <td>23.136313</td>\n",
       "      <td>very low</td>\n",
       "      <td>NaN</td>\n",
       "      <td>0.581473</td>\n",
       "      <td>NaN</td>\n",
       "      <td>less than 1 per person</td>\n",
       "      <td>154 per 1000 people</td>\n",
       "      <td>2.623624e+06</td>\n",
       "      <td>low access</td>\n",
       "      <td>[0%-25%)</td>\n",
       "      <td>59.237366</td>\n",
       "    </tr>\n",
       "    <tr>\n",
       "      <th>2</th>\n",
       "      <td>1396.0</td>\n",
       "      <td>3.000000e+03</td>\n",
       "      <td>8.000000e+01</td>\n",
       "      <td>NaN</td>\n",
       "      <td>18.390090</td>\n",
       "      <td>23.139910</td>\n",
       "      <td>unknown</td>\n",
       "      <td>NaN</td>\n",
       "      <td>NaN</td>\n",
       "      <td>NaN</td>\n",
       "      <td>more than 1 per person</td>\n",
       "      <td>90 per 100 people</td>\n",
       "      <td>1.656589e+09</td>\n",
       "      <td>no info</td>\n",
       "      <td>unknown</td>\n",
       "      <td>81.300000</td>\n",
       "    </tr>\n",
       "    <tr>\n",
       "      <th>3</th>\n",
       "      <td>2758812.0</td>\n",
       "      <td>1.228845e+08</td>\n",
       "      <td>1.050943e+08</td>\n",
       "      <td>1518650.0</td>\n",
       "      <td>50.966885</td>\n",
       "      <td>24.522427</td>\n",
       "      <td>high</td>\n",
       "      <td>1.374906</td>\n",
       "      <td>NaN</td>\n",
       "      <td>NaN</td>\n",
       "      <td>more than 1 per person</td>\n",
       "      <td>76 per 100 people</td>\n",
       "      <td>6.625072e+08</td>\n",
       "      <td>very high access</td>\n",
       "      <td>[25%-50%)</td>\n",
       "      <td>81.373197</td>\n",
       "    </tr>\n",
       "    <tr>\n",
       "      <th>4</th>\n",
       "      <td>340.0</td>\n",
       "      <td>1.100000e+04</td>\n",
       "      <td>1.699000e+04</td>\n",
       "      <td>NaN</td>\n",
       "      <td>5.311885</td>\n",
       "      <td>30.271115</td>\n",
       "      <td>unknown</td>\n",
       "      <td>-0.044229</td>\n",
       "      <td>NaN</td>\n",
       "      <td>NaN</td>\n",
       "      <td>more than 1 per person</td>\n",
       "      <td>350 per 1000 people</td>\n",
       "      <td>2.832808e+07</td>\n",
       "      <td>very high access</td>\n",
       "      <td>[25%-50%)</td>\n",
       "      <td>73.193561</td>\n",
       "    </tr>\n",
       "  </tbody>\n",
       "</table>\n",
       "</div>"
      ],
      "text/plain": [
       "   surface_area  agricultural_land   forest_area  armed_forces_total  \\\n",
       "0      120540.0       2.632839e+06  5.417843e+06           1379000.0   \n",
       "1      752610.0       2.403039e+07  4.957554e+07             16500.0   \n",
       "2        1396.0       3.000000e+03  8.000000e+01                 NaN   \n",
       "3     2758812.0       1.228845e+08  1.050943e+08           1518650.0   \n",
       "4         340.0       1.100000e+04  1.699000e+04                 NaN   \n",
       "\n",
       "   urban_pop_major_cities  urban_pop_minor_cities national_income  \\\n",
       "0               55.747169                4.688831         unknown   \n",
       "1               16.890687               23.136313        very low   \n",
       "2               18.390090               23.139910         unknown   \n",
       "3               50.966885               24.522427            high   \n",
       "4                5.311885               30.271115         unknown   \n",
       "\n",
       "   inflation_annual  inflation_monthly  inflation_weekly  \\\n",
       "0               NaN                NaN               NaN   \n",
       "1               NaN           0.581473               NaN   \n",
       "2               NaN                NaN               NaN   \n",
       "3          1.374906                NaN               NaN   \n",
       "4         -0.044229                NaN               NaN   \n",
       "\n",
       "     mobile_subscriptions       internet_users  secure_internet_servers_total  \\\n",
       "0  less than 1 per person    0 per 1000 people                            NaN   \n",
       "1  less than 1 per person  154 per 1000 people                   2.623624e+06   \n",
       "2  more than 1 per person    90 per 100 people                   1.656589e+09   \n",
       "3  more than 1 per person    76 per 100 people                   6.625072e+08   \n",
       "4  more than 1 per person  350 per 1000 people                   2.832808e+07   \n",
       "\n",
       "  improved_sanitation women_parliament_seats_rate  life_expectancy  \n",
       "0         high access                    [0%-25%)        69.494195  \n",
       "1          low access                    [0%-25%)        59.237366  \n",
       "2             no info                     unknown        81.300000  \n",
       "3    very high access                   [25%-50%)        81.373197  \n",
       "4    very high access                   [25%-50%)        73.193561  "
      ]
     },
     "execution_count": 4,
     "metadata": {},
     "output_type": "execute_result"
    }
   ],
   "source": [
    "# Explore the first five rows (представьте 5 первых строк)\n",
    "\n",
    "df.head(5)"
   ]
  },
  {
   "cell_type": "code",
   "execution_count": 5,
   "metadata": {},
   "outputs": [
    {
     "data": {
      "text/plain": [
       "(362, 16)"
      ]
     },
     "execution_count": 5,
     "metadata": {},
     "output_type": "execute_result"
    }
   ],
   "source": [
    "# Find number of rows and columns (определите кол-во строк и столбцов в таблице)\n",
    "\n",
    "df.shape"
   ]
  },
  {
   "cell_type": "code",
   "execution_count": 6,
   "metadata": {},
   "outputs": [
    {
     "data": {
      "text/plain": [
       "surface_area                     float64\n",
       "agricultural_land                float64\n",
       "forest_area                      float64\n",
       "armed_forces_total               float64\n",
       "urban_pop_major_cities           float64\n",
       "urban_pop_minor_cities           float64\n",
       "national_income                   object\n",
       "inflation_annual                 float64\n",
       "inflation_monthly                float64\n",
       "inflation_weekly                 float64\n",
       "mobile_subscriptions              object\n",
       "internet_users                    object\n",
       "secure_internet_servers_total    float64\n",
       "improved_sanitation               object\n",
       "women_parliament_seats_rate       object\n",
       "life_expectancy                  float64\n",
       "dtype: object"
      ]
     },
     "execution_count": 6,
     "metadata": {},
     "output_type": "execute_result"
    }
   ],
   "source": [
    "# Explore column types (исследуйте типы колонок)\n",
    "\n",
    "df.dtypes"
   ]
  },
  {
   "cell_type": "code",
   "execution_count": 7,
   "metadata": {},
   "outputs": [
    {
     "data": {
      "text/html": [
       "<div>\n",
       "<style scoped>\n",
       "    .dataframe tbody tr th:only-of-type {\n",
       "        vertical-align: middle;\n",
       "    }\n",
       "\n",
       "    .dataframe tbody tr th {\n",
       "        vertical-align: top;\n",
       "    }\n",
       "\n",
       "    .dataframe thead th {\n",
       "        text-align: right;\n",
       "    }\n",
       "</style>\n",
       "<table border=\"1\" class=\"dataframe\">\n",
       "  <thead>\n",
       "    <tr style=\"text-align: right;\">\n",
       "      <th></th>\n",
       "      <th>surface_area</th>\n",
       "      <th>agricultural_land</th>\n",
       "      <th>forest_area</th>\n",
       "      <th>armed_forces_total</th>\n",
       "      <th>urban_pop_major_cities</th>\n",
       "      <th>urban_pop_minor_cities</th>\n",
       "      <th>inflation_annual</th>\n",
       "      <th>inflation_monthly</th>\n",
       "      <th>inflation_weekly</th>\n",
       "      <th>secure_internet_servers_total</th>\n",
       "      <th>life_expectancy</th>\n",
       "    </tr>\n",
       "  </thead>\n",
       "  <tbody>\n",
       "    <tr>\n",
       "      <th>count</th>\n",
       "      <td>3.620000e+02</td>\n",
       "      <td>3.580000e+02</td>\n",
       "      <td>3.570000e+02</td>\n",
       "      <td>3.180000e+02</td>\n",
       "      <td>360.000000</td>\n",
       "      <td>360.000000</td>\n",
       "      <td>146.000000</td>\n",
       "      <td>156.000000</td>\n",
       "      <td>20.000000</td>\n",
       "      <td>3.520000e+02</td>\n",
       "      <td>362.000000</td>\n",
       "    </tr>\n",
       "    <tr>\n",
       "      <th>mean</th>\n",
       "      <td>4.021884e+06</td>\n",
       "      <td>1.594881e+08</td>\n",
       "      <td>1.204151e+08</td>\n",
       "      <td>9.849864e+05</td>\n",
       "      <td>27.659456</td>\n",
       "      <td>29.175242</td>\n",
       "      <td>1.681539</td>\n",
       "      <td>0.475969</td>\n",
       "      <td>0.396478</td>\n",
       "      <td>2.949654e+08</td>\n",
       "      <td>71.059691</td>\n",
       "    </tr>\n",
       "    <tr>\n",
       "      <th>std</th>\n",
       "      <td>1.234491e+07</td>\n",
       "      <td>4.964143e+08</td>\n",
       "      <td>3.796623e+08</td>\n",
       "      <td>2.994686e+06</td>\n",
       "      <td>20.512885</td>\n",
       "      <td>21.206494</td>\n",
       "      <td>0.980308</td>\n",
       "      <td>0.153430</td>\n",
       "      <td>0.203583</td>\n",
       "      <td>7.234006e+08</td>\n",
       "      <td>8.332818</td>\n",
       "    </tr>\n",
       "    <tr>\n",
       "      <th>min</th>\n",
       "      <td>3.030000e+01</td>\n",
       "      <td>3.000000e+02</td>\n",
       "      <td>0.000000e+00</td>\n",
       "      <td>5.000000e+01</td>\n",
       "      <td>0.091444</td>\n",
       "      <td>0.074575</td>\n",
       "      <td>-2.372263</td>\n",
       "      <td>0.250543</td>\n",
       "      <td>0.209993</td>\n",
       "      <td>4.002500e+04</td>\n",
       "      <td>48.850634</td>\n",
       "    </tr>\n",
       "    <tr>\n",
       "      <th>25%</th>\n",
       "      <td>2.783000e+04</td>\n",
       "      <td>1.054198e+06</td>\n",
       "      <td>4.951445e+05</td>\n",
       "      <td>1.218000e+04</td>\n",
       "      <td>10.624625</td>\n",
       "      <td>11.013743</td>\n",
       "      <td>1.202953</td>\n",
       "      <td>0.347799</td>\n",
       "      <td>0.232118</td>\n",
       "      <td>3.468446e+06</td>\n",
       "      <td>65.469854</td>\n",
       "    </tr>\n",
       "    <tr>\n",
       "      <th>50%</th>\n",
       "      <td>2.037745e+05</td>\n",
       "      <td>5.360256e+06</td>\n",
       "      <td>3.928535e+06</td>\n",
       "      <td>5.352500e+04</td>\n",
       "      <td>24.459439</td>\n",
       "      <td>26.735127</td>\n",
       "      <td>1.762683</td>\n",
       "      <td>0.459790</td>\n",
       "      <td>0.297938</td>\n",
       "      <td>2.671228e+07</td>\n",
       "      <td>73.238024</td>\n",
       "    </tr>\n",
       "    <tr>\n",
       "      <th>75%</th>\n",
       "      <td>1.081610e+06</td>\n",
       "      <td>4.221935e+07</td>\n",
       "      <td>2.241297e+07</td>\n",
       "      <td>2.598000e+05</td>\n",
       "      <td>38.587177</td>\n",
       "      <td>43.499418</td>\n",
       "      <td>2.485675</td>\n",
       "      <td>0.577340</td>\n",
       "      <td>0.537541</td>\n",
       "      <td>2.173937e+08</td>\n",
       "      <td>77.125610</td>\n",
       "    </tr>\n",
       "    <tr>\n",
       "      <th>max</th>\n",
       "      <td>1.343253e+08</td>\n",
       "      <td>5.067600e+09</td>\n",
       "      <td>4.132117e+09</td>\n",
       "      <td>2.720662e+07</td>\n",
       "      <td>92.409069</td>\n",
       "      <td>89.142904</td>\n",
       "      <td>2.997694</td>\n",
       "      <td>0.810152</td>\n",
       "      <td>0.781527</td>\n",
       "      <td>8.207343e+09</td>\n",
       "      <td>83.480488</td>\n",
       "    </tr>\n",
       "  </tbody>\n",
       "</table>\n",
       "</div>"
      ],
      "text/plain": [
       "       surface_area  agricultural_land   forest_area  armed_forces_total  \\\n",
       "count  3.620000e+02       3.580000e+02  3.570000e+02        3.180000e+02   \n",
       "mean   4.021884e+06       1.594881e+08  1.204151e+08        9.849864e+05   \n",
       "std    1.234491e+07       4.964143e+08  3.796623e+08        2.994686e+06   \n",
       "min    3.030000e+01       3.000000e+02  0.000000e+00        5.000000e+01   \n",
       "25%    2.783000e+04       1.054198e+06  4.951445e+05        1.218000e+04   \n",
       "50%    2.037745e+05       5.360256e+06  3.928535e+06        5.352500e+04   \n",
       "75%    1.081610e+06       4.221935e+07  2.241297e+07        2.598000e+05   \n",
       "max    1.343253e+08       5.067600e+09  4.132117e+09        2.720662e+07   \n",
       "\n",
       "       urban_pop_major_cities  urban_pop_minor_cities  inflation_annual  \\\n",
       "count              360.000000              360.000000        146.000000   \n",
       "mean                27.659456               29.175242          1.681539   \n",
       "std                 20.512885               21.206494          0.980308   \n",
       "min                  0.091444                0.074575         -2.372263   \n",
       "25%                 10.624625               11.013743          1.202953   \n",
       "50%                 24.459439               26.735127          1.762683   \n",
       "75%                 38.587177               43.499418          2.485675   \n",
       "max                 92.409069               89.142904          2.997694   \n",
       "\n",
       "       inflation_monthly  inflation_weekly  secure_internet_servers_total  \\\n",
       "count         156.000000         20.000000                   3.520000e+02   \n",
       "mean            0.475969          0.396478                   2.949654e+08   \n",
       "std             0.153430          0.203583                   7.234006e+08   \n",
       "min             0.250543          0.209993                   4.002500e+04   \n",
       "25%             0.347799          0.232118                   3.468446e+06   \n",
       "50%             0.459790          0.297938                   2.671228e+07   \n",
       "75%             0.577340          0.537541                   2.173937e+08   \n",
       "max             0.810152          0.781527                   8.207343e+09   \n",
       "\n",
       "       life_expectancy  \n",
       "count       362.000000  \n",
       "mean         71.059691  \n",
       "std           8.332818  \n",
       "min          48.850634  \n",
       "25%          65.469854  \n",
       "50%          73.238024  \n",
       "75%          77.125610  \n",
       "max          83.480488  "
      ]
     },
     "execution_count": 7,
     "metadata": {},
     "output_type": "execute_result"
    }
   ],
   "source": [
    "# Description (описание таблицы)\n",
    "\n",
    "df.describe()"
   ]
  },
  {
   "cell_type": "markdown",
   "metadata": {},
   "source": [
    "Discriptive statistic indicates that in general \"surface_area\" values (total area of lands) are smaller than \"argicultural_land\" and \"forst_area\" values (argicultural and forest portions of the total area). It seems there is data entry problem. Following analysese are preformed to address this issue."
   ]
  },
  {
   "cell_type": "markdown",
   "metadata": {},
   "source": [
    "Описательная статистика показывает, что в целом значения \"surface_area\" (общая площадь земель) меньше значений \"argicultural_land\" и \"forst_area\" (аргикультурные и лесные участки общей площади). Похоже, есть проблема с вводом данных (единица измерения). Для решения этой проблемы проводятся следующие анализы.\n",
    "Можно определить по последнему показателю таблицы с описанием данных, по строке  Max. Видно, что степень surface_area меньше, чем степени agricultural_land и forest_area."
   ]
  },
  {
   "cell_type": "code",
   "execution_count": 8,
   "metadata": {},
   "outputs": [
    {
     "data": {
      "text/plain": [
       "<matplotlib.axes._subplots.AxesSubplot at 0x7febb0a5a9d0>"
      ]
     },
     "execution_count": 8,
     "metadata": {},
     "output_type": "execute_result"
    },
    {
     "data": {
      "image/png": "[encoded data removed]",
      "text/plain": [
       "<Figure size 432x288 with 2 Axes>"
      ]
     },
     "metadata": {
      "needs_background": "light"
     },
     "output_type": "display_data"
    }
   ],
   "source": [
    "# Check if these three variables are highly correlated (multicollinearity problem)\n",
    "\n",
    "# Проверить, есть ли корреляция между тремя переменными (проблема мультиколлинеарности)\n",
    "\n",
    "sns.heatmap(df[['surface_area', 'agricultural_land','forest_area']].corr(),\n",
    "            cmap='PRGn',annot=True)"
   ]
  },
  {
   "cell_type": "code",
   "execution_count": 9,
   "metadata": {},
   "outputs": [
    {
     "data": {
      "text/plain": [
       "<seaborn.axisgrid.PairGrid at 0x7febb6a0d4d0>"
      ]
     },
     "execution_count": 9,
     "metadata": {},
     "output_type": "execute_result"
    },
    {
     "data": {
      "image/png": "[encoded data removed]",
      "text/plain": [
       "<Figure size 540x540 with 12 Axes>"
      ]
     },
     "metadata": {
      "needs_background": "light"
     },
     "output_type": "display_data"
    }
   ],
   "source": [
    "# Plot pairwise relationship and distribution of these three variables (correlation matrix)\n",
    "\n",
    "# Построить парные взамосвязи между переменными\n",
    "\n",
    "sns.pairplot(df[['surface_area', 'agricultural_land','forest_area']])"
   ]
  },
  {
   "cell_type": "markdown",
   "metadata": {},
   "source": [
    "***We can see strong linear relationship among 'surface_area', 'agricultural_land', and 'forest_area'.*** It is not good for future analysis and prediction, because multicollinearity problem can deacrease perfomance of model.\n",
    "To fix that problem following steps are taken:\n",
    "1) Multiply 'surface_area' by 100 (to fix data entry/unit issue).\n",
    "2) Create two new features (colums) namely 'agricultural_portion' and 'forest_portion' by dividing 'agricultural_land' and 'forest_area' by 'surface_area' respectively.\n",
    "3) Remove 'agricultural_land' and 'forest_area' colums from dataset."
   ]
  },
  {
   "cell_type": "markdown",
   "metadata": {},
   "source": [
    "***Можно заметить сильную взаимосвязь между тремя признаками, что не очень хорошо для дальнейшего анализа, поскольку проблема мультиколлинеарности снижает качество моделирования.*** Чтобы исправить эту проблемы были предприняты следующие шаги: 1) Умножить 'surface_area' на 100 (чтобы привести к единой единице измерения). 2) Создать два новых столбца для доли 'agricultural_portion'  и 'forest_portion' в общем числе 'surface_area'. 3) Удалить 'agricultural_land' и 'forest_area'."
   ]
  },
  {
   "cell_type": "code",
   "execution_count": 10,
   "metadata": {},
   "outputs": [
    {
     "data": {
      "text/html": [
       "<div>\n",
       "<style scoped>\n",
       "    .dataframe tbody tr th:only-of-type {\n",
       "        vertical-align: middle;\n",
       "    }\n",
       "\n",
       "    .dataframe tbody tr th {\n",
       "        vertical-align: top;\n",
       "    }\n",
       "\n",
       "    .dataframe thead th {\n",
       "        text-align: right;\n",
       "    }\n",
       "</style>\n",
       "<table border=\"1\" class=\"dataframe\">\n",
       "  <thead>\n",
       "    <tr style=\"text-align: right;\">\n",
       "      <th></th>\n",
       "      <th>surface_area</th>\n",
       "      <th>armed_forces_total</th>\n",
       "      <th>urban_pop_major_cities</th>\n",
       "      <th>urban_pop_minor_cities</th>\n",
       "      <th>national_income</th>\n",
       "      <th>inflation_annual</th>\n",
       "      <th>inflation_monthly</th>\n",
       "      <th>inflation_weekly</th>\n",
       "      <th>mobile_subscriptions</th>\n",
       "      <th>internet_users</th>\n",
       "      <th>secure_internet_servers_total</th>\n",
       "      <th>improved_sanitation</th>\n",
       "      <th>women_parliament_seats_rate</th>\n",
       "      <th>life_expectancy</th>\n",
       "      <th>agricultural_portion</th>\n",
       "      <th>forest_portion</th>\n",
       "    </tr>\n",
       "  </thead>\n",
       "  <tbody>\n",
       "    <tr>\n",
       "      <th>0</th>\n",
       "      <td>12054000.0</td>\n",
       "      <td>1379000.0</td>\n",
       "      <td>55.747169</td>\n",
       "      <td>4.688831</td>\n",
       "      <td>unknown</td>\n",
       "      <td>NaN</td>\n",
       "      <td>NaN</td>\n",
       "      <td>NaN</td>\n",
       "      <td>less than 1 per person</td>\n",
       "      <td>0 per 1000 people</td>\n",
       "      <td>NaN</td>\n",
       "      <td>high access</td>\n",
       "      <td>[0%-25%)</td>\n",
       "      <td>69.494195</td>\n",
       "      <td>0.218420</td>\n",
       "      <td>0.449464</td>\n",
       "    </tr>\n",
       "    <tr>\n",
       "      <th>1</th>\n",
       "      <td>75261000.0</td>\n",
       "      <td>16500.0</td>\n",
       "      <td>16.890687</td>\n",
       "      <td>23.136313</td>\n",
       "      <td>very low</td>\n",
       "      <td>NaN</td>\n",
       "      <td>0.581473</td>\n",
       "      <td>NaN</td>\n",
       "      <td>less than 1 per person</td>\n",
       "      <td>154 per 1000 people</td>\n",
       "      <td>2623624.0</td>\n",
       "      <td>low access</td>\n",
       "      <td>[0%-25%)</td>\n",
       "      <td>59.237366</td>\n",
       "      <td>0.319294</td>\n",
       "      <td>0.658715</td>\n",
       "    </tr>\n",
       "  </tbody>\n",
       "</table>\n",
       "</div>"
      ],
      "text/plain": [
       "   surface_area  armed_forces_total  urban_pop_major_cities  \\\n",
       "0    12054000.0           1379000.0               55.747169   \n",
       "1    75261000.0             16500.0               16.890687   \n",
       "\n",
       "   urban_pop_minor_cities national_income  inflation_annual  \\\n",
       "0                4.688831         unknown               NaN   \n",
       "1               23.136313        very low               NaN   \n",
       "\n",
       "   inflation_monthly  inflation_weekly    mobile_subscriptions  \\\n",
       "0                NaN               NaN  less than 1 per person   \n",
       "1           0.581473               NaN  less than 1 per person   \n",
       "\n",
       "        internet_users  secure_internet_servers_total improved_sanitation  \\\n",
       "0    0 per 1000 people                            NaN         high access   \n",
       "1  154 per 1000 people                      2623624.0          low access   \n",
       "\n",
       "  women_parliament_seats_rate  life_expectancy  agricultural_portion  \\\n",
       "0                    [0%-25%)        69.494195              0.218420   \n",
       "1                    [0%-25%)        59.237366              0.319294   \n",
       "\n",
       "   forest_portion  \n",
       "0        0.449464  \n",
       "1        0.658715  "
      ]
     },
     "execution_count": 10,
     "metadata": {},
     "output_type": "execute_result"
    }
   ],
   "source": [
    "# make a copy of the orginal dataframe\n",
    "df1 = df.copy()\n",
    "\n",
    "# Step 1: Multiply 'surface_area' by 100\n",
    "df1['surface_area'] = df1['surface_area'] * 100\n",
    "\n",
    "# Step 2: Creates new variables \n",
    "df1['agricultural_portion'] = df1['agricultural_land'] / df1['surface_area'] \n",
    "df1['forest_portion'] = df1['forest_area'] / df1['surface_area']\n",
    "\n",
    "# Step 3: Remove 'agricultural_land' and 'forest_area' colums from dataset\n",
    "df1.drop(['agricultural_land', 'forest_area'], axis=1, inplace=True)\n",
    "\n",
    "# Show the first 2 row of df1\n",
    "df1.head(2)"
   ]
  },
  {
   "cell_type": "code",
   "execution_count": 11,
   "metadata": {
    "scrolled": true
   },
   "outputs": [
    {
     "data": {
      "text/plain": [
       "<matplotlib.axes._subplots.AxesSubplot at 0x7febb6fb6750>"
      ]
     },
     "execution_count": 11,
     "metadata": {},
     "output_type": "execute_result"
    },
    {
     "data": {
      "image/png": "[encoded data removed]",
      "text/plain": [
       "<Figure size 432x288 with 2 Axes>"
      ]
     },
     "metadata": {
      "needs_background": "light"
     },
     "output_type": "display_data"
    }
   ],
   "source": [
    "# Check correlations among 'surface_area', 'agriculture_portion' & 'forest_portion' for multicollinearity\n",
    "# Проверим наличие взаимосвязей после изменений\n",
    "sns.heatmap(df1[['surface_area', 'agricultural_portion','forest_portion']].corr(),\n",
    "            cmap='PRGn',annot=True)"
   ]
  },
  {
   "cell_type": "markdown",
   "metadata": {},
   "source": [
    "Видим, что изменения исправили ситуацию и коэффициент корреляции между переменными действительно не показывает сильную зависимость."
   ]
  },
  {
   "cell_type": "code",
   "execution_count": 12,
   "metadata": {},
   "outputs": [
    {
     "data": {
      "text/html": [
       "<div>\n",
       "<style scoped>\n",
       "    .dataframe tbody tr th:only-of-type {\n",
       "        vertical-align: middle;\n",
       "    }\n",
       "\n",
       "    .dataframe tbody tr th {\n",
       "        vertical-align: top;\n",
       "    }\n",
       "\n",
       "    .dataframe thead th {\n",
       "        text-align: right;\n",
       "    }\n",
       "</style>\n",
       "<table border=\"1\" class=\"dataframe\">\n",
       "  <thead>\n",
       "    <tr style=\"text-align: right;\">\n",
       "      <th></th>\n",
       "      <th>surface_area</th>\n",
       "      <th>armed_forces_total</th>\n",
       "      <th>urban_pop_major_cities</th>\n",
       "      <th>urban_pop_minor_cities</th>\n",
       "      <th>national_income</th>\n",
       "      <th>inflation_annual</th>\n",
       "      <th>inflation_monthly</th>\n",
       "      <th>inflation_weekly</th>\n",
       "      <th>mobile_subscriptions</th>\n",
       "      <th>internet_users</th>\n",
       "      <th>secure_internet_servers_total</th>\n",
       "      <th>improved_sanitation</th>\n",
       "      <th>women_parliament_seats_rate</th>\n",
       "      <th>life_expectancy</th>\n",
       "      <th>agricultural_portion</th>\n",
       "      <th>forest_portion</th>\n",
       "    </tr>\n",
       "  </thead>\n",
       "  <tbody>\n",
       "    <tr>\n",
       "      <th>0</th>\n",
       "      <td>12054000.0</td>\n",
       "      <td>1379000.0</td>\n",
       "      <td>55.747169</td>\n",
       "      <td>4.688831</td>\n",
       "      <td>unknown</td>\n",
       "      <td>NaN</td>\n",
       "      <td>NaN</td>\n",
       "      <td>NaN</td>\n",
       "      <td>less than 1 per person</td>\n",
       "      <td>0 per 1000 people</td>\n",
       "      <td>NaN</td>\n",
       "      <td>high access</td>\n",
       "      <td>[0%-25%)</td>\n",
       "      <td>69.494195</td>\n",
       "      <td>0.218420</td>\n",
       "      <td>0.449464</td>\n",
       "    </tr>\n",
       "    <tr>\n",
       "      <th>1</th>\n",
       "      <td>75261000.0</td>\n",
       "      <td>16500.0</td>\n",
       "      <td>16.890687</td>\n",
       "      <td>23.136313</td>\n",
       "      <td>very low</td>\n",
       "      <td>NaN</td>\n",
       "      <td>0.581473</td>\n",
       "      <td>NaN</td>\n",
       "      <td>less than 1 per person</td>\n",
       "      <td>154 per 1000 people</td>\n",
       "      <td>2623624.0</td>\n",
       "      <td>low access</td>\n",
       "      <td>[0%-25%)</td>\n",
       "      <td>59.237366</td>\n",
       "      <td>0.319294</td>\n",
       "      <td>0.658715</td>\n",
       "    </tr>\n",
       "  </tbody>\n",
       "</table>\n",
       "</div>"
      ],
      "text/plain": [
       "   surface_area  armed_forces_total  urban_pop_major_cities  \\\n",
       "0    12054000.0           1379000.0               55.747169   \n",
       "1    75261000.0             16500.0               16.890687   \n",
       "\n",
       "   urban_pop_minor_cities national_income  inflation_annual  \\\n",
       "0                4.688831         unknown               NaN   \n",
       "1               23.136313        very low               NaN   \n",
       "\n",
       "   inflation_monthly  inflation_weekly    mobile_subscriptions  \\\n",
       "0                NaN               NaN  less than 1 per person   \n",
       "1           0.581473               NaN  less than 1 per person   \n",
       "\n",
       "        internet_users  secure_internet_servers_total improved_sanitation  \\\n",
       "0    0 per 1000 people                            NaN         high access   \n",
       "1  154 per 1000 people                      2623624.0          low access   \n",
       "\n",
       "  women_parliament_seats_rate  life_expectancy  agricultural_portion  \\\n",
       "0                    [0%-25%)        69.494195              0.218420   \n",
       "1                    [0%-25%)        59.237366              0.319294   \n",
       "\n",
       "   forest_portion  \n",
       "0        0.449464  \n",
       "1        0.658715  "
      ]
     },
     "execution_count": 12,
     "metadata": {},
     "output_type": "execute_result"
    }
   ],
   "source": [
    "df1.head(2)"
   ]
  },
  {
   "cell_type": "markdown",
   "metadata": {},
   "source": [
    "**The variable description indicates 'inflation_annual', 'inflation_monthly', and 'inflarion_weekly' are linearly dependent.**  <br> Therefore, we will keep only 'inflation_annual' column and replace NaN values using information from the other two features (if possible)."
   ]
  },
  {
   "cell_type": "markdown",
   "metadata": {},
   "source": [
    "***Переменные с данными по инфляции линейно связаны, поскольку отражают динамику одного и того же показателя.*** <br>Мы можем оставить только одну переменную 'inflation_annual', а два других признака использовать для заполнения пустых значений."
   ]
  },
  {
   "cell_type": "code",
   "execution_count": 13,
   "metadata": {},
   "outputs": [
    {
     "data": {
      "text/plain": [
       "surface_area                       0\n",
       "armed_forces_total                44\n",
       "urban_pop_major_cities             2\n",
       "urban_pop_minor_cities             2\n",
       "national_income                    0\n",
       "inflation_annual                 216\n",
       "inflation_monthly                206\n",
       "inflation_weekly                 342\n",
       "mobile_subscriptions               0\n",
       "internet_users                     0\n",
       "secure_internet_servers_total     10\n",
       "improved_sanitation                0\n",
       "women_parliament_seats_rate        0\n",
       "life_expectancy                    0\n",
       "agricultural_portion               4\n",
       "forest_portion                     5\n",
       "dtype: int64"
      ]
     },
     "execution_count": 13,
     "metadata": {},
     "output_type": "execute_result"
    }
   ],
   "source": [
    "# Check missing values\n",
    "\n",
    "# Проверяем кол-во пустых значений\n",
    "\n",
    "df1.isnull().sum()"
   ]
  },
  {
   "cell_type": "code",
   "execution_count": 14,
   "metadata": {},
   "outputs": [
    {
     "data": {
      "text/plain": [
       "40"
      ]
     },
     "execution_count": 14,
     "metadata": {},
     "output_type": "execute_result"
    }
   ],
   "source": [
    "# To find for how many instances all the three values are missing\n",
    "\n",
    "# Чтобы определить сколько значений пустых для всех трех признаков одновременно\n",
    "\n",
    "len(df1[(df1['inflation_annual'].isnull()) &\\\n",
    "        (df1['inflation_monthly'].isnull()) &\\\n",
    "        (df1['inflation_weekly'].isnull())])"
   ]
  },
  {
   "cell_type": "code",
   "execution_count": 15,
   "metadata": {},
   "outputs": [],
   "source": [
    "# Replace missing values in column 'inflation_annual' with information from\n",
    "# columns 'inflation_monthly' & 'inflation_weekly'\n",
    "\n",
    "# Заменить пропущенные значения в столбце с использованием значений двух других столбцов\n",
    "\n",
    "for i in df1.index:\n",
    "    if np.isnan(df1.loc[i, 'inflation_annual']):\n",
    "        if np.isnan(df1.loc[i, 'inflation_monthly']):\n",
    "            df1.loc[i, 'inflation_annual'] = 52 * df1.loc[i, 'inflation_weekly']\n",
    "        else:\n",
    "            df1.loc[i, 'inflation_annual'] = 12 * df1.loc[i, 'inflation_monthly']\n"
   ]
  },
  {
   "cell_type": "code",
   "execution_count": 16,
   "metadata": {},
   "outputs": [
    {
     "data": {
      "text/plain": [
       "Int64Index([  0,   1,   2,   3,   4,   5,   6,   7,   8,  10,\n",
       "            ...\n",
       "            450, 451, 452, 454, 456, 457, 458, 459, 460, 461],\n",
       "           dtype='int64', length=362)"
      ]
     },
     "execution_count": 16,
     "metadata": {},
     "output_type": "execute_result"
    }
   ],
   "source": [
    "df1.index"
   ]
  },
  {
   "cell_type": "code",
   "execution_count": 17,
   "metadata": {},
   "outputs": [],
   "source": [
    "# Remove columns 'inflation_monthly' & 'inflation_weekly'\n",
    "\n",
    "# Удалить столбцы 'inflation_monthly' & 'inflation_weekly'\n",
    "\n",
    "df1.drop(['inflation_monthly', 'inflation_weekly'], axis=1, inplace=True)"
   ]
  },
  {
   "cell_type": "code",
   "execution_count": 18,
   "metadata": {},
   "outputs": [
    {
     "data": {
      "text/plain": [
       "surface_area                      0\n",
       "armed_forces_total               44\n",
       "urban_pop_major_cities            2\n",
       "urban_pop_minor_cities            2\n",
       "national_income                   0\n",
       "inflation_annual                 40\n",
       "mobile_subscriptions              0\n",
       "internet_users                    0\n",
       "secure_internet_servers_total    10\n",
       "improved_sanitation               0\n",
       "women_parliament_seats_rate       0\n",
       "life_expectancy                   0\n",
       "agricultural_portion              4\n",
       "forest_portion                    5\n",
       "dtype: int64"
      ]
     },
     "execution_count": 18,
     "metadata": {},
     "output_type": "execute_result"
    }
   ],
   "source": [
    "df1.isnull().sum()"
   ]
  },
  {
   "cell_type": "code",
   "execution_count": 19,
   "metadata": {},
   "outputs": [
    {
     "name": "stdout",
     "output_type": "stream",
     "text": [
      "Feature 'national_income' has 7 unique categories\n",
      "Feature 'mobile_subscriptions' has 5 unique categories\n",
      "Feature 'internet_users' has 198 unique categories\n",
      "Feature 'improved_sanitation' has 6 unique categories\n",
      "Feature 'women_parliament_seats_rate' has 4 unique categories\n"
     ]
    }
   ],
   "source": [
    "# Convert categorical and ordinal fearures into numeric features\n",
    "\n",
    "# Decide which categorical variables you want to use in model\n",
    "\n",
    "for col_name in df1.columns:\n",
    "    if df1[col_name].dtypes == 'object':\n",
    "        unique_cat = len(df1[col_name].unique())\n",
    "        print(\"Feature '{col_name}' has {unique_cat} unique categories\".format(col_name=col_name, unique_cat=unique_cat))"
   ]
  },
  {
   "cell_type": "markdown",
   "metadata": {},
   "source": [
    "There are too many categories in 'internet_users'. It's more simillar to a numeric feature! Let's check..."
   ]
  },
  {
   "cell_type": "code",
   "execution_count": 20,
   "metadata": {
    "scrolled": true
   },
   "outputs": [
    {
     "data": {
      "text/plain": [
       "0        0 per 1000 people\n",
       "1      154 per 1000 people\n",
       "2        90 per 100 people\n",
       "3        76 per 100 people\n",
       "4      350 per 1000 people\n",
       "              ...         \n",
       "457      90 per 100 people\n",
       "458      84 per 100 people\n",
       "459      58 per 100 people\n",
       "460      44 per 100 people\n",
       "461      45 per 100 people\n",
       "Name: internet_users, Length: 362, dtype: object"
      ]
     },
     "execution_count": 20,
     "metadata": {},
     "output_type": "execute_result"
    }
   ],
   "source": [
    "# Explore values in 'internet_users' column\n",
    "\n",
    "df1['internet_users']"
   ]
  },
  {
   "cell_type": "code",
   "execution_count": 21,
   "metadata": {},
   "outputs": [
    {
     "data": {
      "text/plain": [
       "6"
      ]
     },
     "execution_count": 21,
     "metadata": {},
     "output_type": "execute_result"
    }
   ],
   "source": [
    "(df1['internet_users']=='unknown').sum()"
   ]
  },
  {
   "cell_type": "code",
   "execution_count": 22,
   "metadata": {},
   "outputs": [
    {
     "data": {
      "text/plain": [
       "0"
      ]
     },
     "execution_count": 22,
     "metadata": {},
     "output_type": "execute_result"
    }
   ],
   "source": [
    "(df1['internet_users'].isnull()).sum()"
   ]
  },
  {
   "cell_type": "code",
   "execution_count": 23,
   "metadata": {},
   "outputs": [],
   "source": [
    "# lst = []\n",
    "# for i in df1['internet_users'].index:\n",
    "#     try:\n",
    "#         k = int(df1['internet_users'][i].split()[0])/int(df1['internet_users'][i].split()[2])\n",
    "#     except ValueError:\n",
    "#         k = 0\n",
    "#     lst.append(k)\n",
    "# df1['percent_internet_users'] = pd.DataFrame(lst)"
   ]
  },
  {
   "cell_type": "code",
   "execution_count": 24,
   "metadata": {},
   "outputs": [],
   "source": [
    "# Convert 'internet_users' column to associated percentages\n",
    "\n",
    "variable_split = df1['internet_users'].str.split()\n",
    "df1['percent_internet_users'] = (pd.to_numeric(variable_split.str.get(0), errors='coerce') / \n",
    "                          pd.to_numeric(variable_split.str.get(2), errors='coerce'))"
   ]
  },
  {
   "cell_type": "code",
   "execution_count": 25,
   "metadata": {},
   "outputs": [],
   "source": [
    "# Remove 'internet_users' column\n",
    "\n",
    "df1.drop('internet_users', axis=1, inplace=True)"
   ]
  },
  {
   "cell_type": "code",
   "execution_count": 26,
   "metadata": {},
   "outputs": [
    {
     "name": "stdout",
     "output_type": "stream",
     "text": [
      "national_income :\n",
      "low            81\n",
      "very low       77\n",
      "medium low     76\n",
      "unknown        48\n",
      "high           37\n",
      "medium high    31\n",
      "very high      12\n",
      "Name: national_income, dtype: int64 \n",
      "\n",
      "mobile_subscriptions :\n",
      "more than 1 per person    188\n",
      "less than 1 per person    164\n",
      "unknown                     7\n",
      "more than 2 per person      2\n",
      "more than 3 per person      1\n",
      "Name: mobile_subscriptions, dtype: int64 \n",
      "\n",
      "improved_sanitation :\n",
      "very high access    155\n",
      "low access           55\n",
      "medium access        54\n",
      "high access          47\n",
      "very low access      33\n",
      "no info              18\n",
      "Name: improved_sanitation, dtype: int64 \n",
      "\n",
      "women_parliament_seats_rate :\n",
      "[0%-25%)     249\n",
      "[25%-50%)     82\n",
      "unknown       30\n",
      "[50%-75%)      1\n",
      "Name: women_parliament_seats_rate, dtype: int64 \n",
      "\n"
     ]
    }
   ],
   "source": [
    "# Check the frequency of categories (labels) in each categorical variable\n",
    "\n",
    "for name in df1.select_dtypes(include=['object']):\n",
    "    print(name,':')\n",
    "    print(df1[name].value_counts(),'\\n')"
   ]
  },
  {
   "cell_type": "code",
   "execution_count": 27,
   "metadata": {},
   "outputs": [],
   "source": [
    "# Assign \"mobile_subscriptions\" values to 1 if mobile subscriptions is\n",
    "# less than 1 per person, otherwise 2:\n",
    "\n",
    "df1['mobile_subscriptions'] = [1 if x == 'less than 1 per person' else 2 for x in df1['mobile_subscriptions']]"
   ]
  },
  {
   "cell_type": "code",
   "execution_count": 28,
   "metadata": {},
   "outputs": [],
   "source": [
    "# Assign \"women_parliament_seats_rate\" to 1 if women _parliament seat _rate is\n",
    "# [0%-25%), 2 if it is [25%-75%), or 3 if unknown:\n",
    "\n",
    "df1['women_parliament_seats_rate'] = (\n",
    "    df1['women_parliament_seats_rate'].replace('[0%-25%)', 1))\n",
    "df1['women_parliament_seats_rate'] = (\n",
    "    df1['women_parliament_seats_rate'].replace('[25%-50%)', 2))\n",
    "df1['women_parliament_seats_rate'] = (\n",
    "    df1['women_parliament_seats_rate'].replace('[50%-75%)', 2))\n",
    "df1['women_parliament_seats_rate'] = (\n",
    "    df1['women_parliament_seats_rate'].replace('unknown', 3))"
   ]
  },
  {
   "cell_type": "code",
   "execution_count": 29,
   "metadata": {},
   "outputs": [],
   "source": [
    "# Assign numeric values to the levels of \"national_income\" (ordinal variable):\n",
    "\n",
    "mapper_1 = {'very low': 1, 'medium low': 2, 'low': 3,\n",
    "            'medium high': 4, 'high': 5, 'very high': 6,\n",
    "            'unknown': 7}\n",
    "\n",
    "df1['national_income'].replace(mapper_1, inplace=True)"
   ]
  },
  {
   "cell_type": "code",
   "execution_count": 30,
   "metadata": {},
   "outputs": [],
   "source": [
    "# Assign numeric values to the levels of \"improved_sanitation\" (Ordinal Variable):\n",
    "\n",
    "mapper_2 = {'very low access': 1, 'low access': 2, 'medium access': 3,\n",
    "            'high access': 4, 'very high access': 5, 'no info': 6}\n",
    "\n",
    "df1['improved_sanitation'].replace(mapper_2, inplace=True)"
   ]
  },
  {
   "cell_type": "code",
   "execution_count": 31,
   "metadata": {},
   "outputs": [
    {
     "data": {
      "text/plain": [
       "armed_forces_total               44\n",
       "inflation_annual                 40\n",
       "secure_internet_servers_total    10\n",
       "percent_internet_users            6\n",
       "forest_portion                    5\n",
       "agricultural_portion              4\n",
       "urban_pop_minor_cities            2\n",
       "urban_pop_major_cities            2\n",
       "life_expectancy                   0\n",
       "women_parliament_seats_rate       0\n",
       "improved_sanitation               0\n",
       "mobile_subscriptions              0\n",
       "national_income                   0\n",
       "surface_area                      0\n",
       "dtype: int64"
      ]
     },
     "execution_count": 31,
     "metadata": {},
     "output_type": "execute_result"
    }
   ],
   "source": [
    "# make a copy of df1\n",
    "\n",
    "df2 = df1.copy()\n",
    "\n",
    "# How much of your data is missing?\n",
    "\n",
    "df2.isnull().sum().sort_values(ascending=False)"
   ]
  },
  {
   "cell_type": "code",
   "execution_count": 32,
   "metadata": {},
   "outputs": [],
   "source": [
    "# Impute missing values using SimpleImputer in sklearn\n",
    "\n",
    "imp = SimpleImputer(missing_values=np.nan, strategy='median')\n",
    "imp.fit(df2)\n",
    "df2 = pd.DataFrame(data=imp.transform(df2) , columns=df2.columns)"
   ]
  },
  {
   "cell_type": "code",
   "execution_count": 33,
   "metadata": {},
   "outputs": [
    {
     "data": {
      "text/plain": [
       "percent_internet_users           0\n",
       "forest_portion                   0\n",
       "agricultural_portion             0\n",
       "life_expectancy                  0\n",
       "women_parliament_seats_rate      0\n",
       "improved_sanitation              0\n",
       "secure_internet_servers_total    0\n",
       "mobile_subscriptions             0\n",
       "inflation_annual                 0\n",
       "national_income                  0\n",
       "urban_pop_minor_cities           0\n",
       "urban_pop_major_cities           0\n",
       "armed_forces_total               0\n",
       "surface_area                     0\n",
       "dtype: int64"
      ]
     },
     "execution_count": 33,
     "metadata": {},
     "output_type": "execute_result"
    }
   ],
   "source": [
    "df2.isnull().sum().sort_values(ascending=False)"
   ]
  },
  {
   "cell_type": "markdown",
   "metadata": {},
   "source": [
    "### Visualization, Modeling, Machine Learning"
   ]
  },
  {
   "cell_type": "markdown",
   "metadata": {},
   "source": [
    "Can you construct a reliable model that predicts the life expectancy of an area (country, region, group of countries) using socioeconomic variables and identify how different features influence their decision? Please explain your findings effectively to technical and non-technical audiences using comments and visualizations, if appropriate.\n",
    "\n",
    "- Build an optimized model that effectively solves the business problem.<br>\n",
    "- The model would be evaluated on the basis of Mean Absolute Error.<br>\n",
    "- Read the Test.csv file and prepare features for testing.<br>"
   ]
  },
  {
   "cell_type": "code",
   "execution_count": 34,
   "metadata": {},
   "outputs": [],
   "source": [
    "def plot_histogram(x):\n",
    "    plt.hist(x, color='gray', edgecolor='black', alpha=0.8)\n",
    "    plt.title(\"Histogram of '{var_name}'\".format(var_name=x.name))\n",
    "    plt.xlabel(\"Value\")\n",
    "    plt.ylabel(\"Frequency\")\n",
    "    plt.show()"
   ]
  },
  {
   "cell_type": "code",
   "execution_count": 35,
   "metadata": {
    "scrolled": false
   },
   "outputs": [
    {
     "data": {
      "image/png": "[encoded data removed]",
      "text/plain": [
       "<Figure size 432x288 with 1 Axes>"
      ]
     },
     "metadata": {
      "needs_background": "light"
     },
     "output_type": "display_data"
    }
   ],
   "source": [
    "# Plot distribution of traget (outcome) variable in the training data\n",
    "\n",
    "plot_histogram(df2['life_expectancy'])"
   ]
  },
  {
   "cell_type": "code",
   "execution_count": 36,
   "metadata": {},
   "outputs": [
    {
     "data": {
      "text/plain": [
       "16"
      ]
     },
     "execution_count": 36,
     "metadata": {},
     "output_type": "execute_result"
    }
   ],
   "source": [
    "len(list(df.columns))"
   ]
  },
  {
   "cell_type": "code",
   "execution_count": 38,
   "metadata": {
    "scrolled": false
   },
   "outputs": [
    {
     "data": {
      "text/html": [
       "<div>\n",
       "<style scoped>\n",
       "    .dataframe tbody tr th:only-of-type {\n",
       "        vertical-align: middle;\n",
       "    }\n",
       "\n",
       "    .dataframe tbody tr th {\n",
       "        vertical-align: top;\n",
       "    }\n",
       "\n",
       "    .dataframe thead th {\n",
       "        text-align: right;\n",
       "    }\n",
       "</style>\n",
       "<table border=\"1\" class=\"dataframe\">\n",
       "  <thead>\n",
       "    <tr style=\"text-align: right;\">\n",
       "      <th></th>\n",
       "      <th>surface_area</th>\n",
       "      <th>armed_forces_total</th>\n",
       "      <th>urban_pop_major_cities</th>\n",
       "      <th>urban_pop_minor_cities</th>\n",
       "      <th>national_income</th>\n",
       "      <th>inflation_annual</th>\n",
       "      <th>mobile_subscriptions</th>\n",
       "      <th>secure_internet_servers_total</th>\n",
       "      <th>improved_sanitation</th>\n",
       "      <th>women_parliament_seats_rate</th>\n",
       "      <th>agricultural_portion</th>\n",
       "      <th>forest_portion</th>\n",
       "      <th>percent_internet_users</th>\n",
       "    </tr>\n",
       "  </thead>\n",
       "  <tbody>\n",
       "    <tr>\n",
       "      <th>0</th>\n",
       "      <td>32246000.0</td>\n",
       "      <td>50800.0</td>\n",
       "      <td>0.846584</td>\n",
       "      <td>51.919416</td>\n",
       "      <td>3.0</td>\n",
       "      <td>2.569961</td>\n",
       "      <td>1.0</td>\n",
       "      <td>1849926.0</td>\n",
       "      <td>1.0</td>\n",
       "      <td>1.0</td>\n",
       "      <td>0.647799</td>\n",
       "      <td>0.327101</td>\n",
       "      <td>0.084</td>\n",
       "    </tr>\n",
       "    <tr>\n",
       "      <th>1</th>\n",
       "      <td>51312000.0</td>\n",
       "      <td>453550.0</td>\n",
       "      <td>42.139810</td>\n",
       "      <td>5.803190</td>\n",
       "      <td>3.0</td>\n",
       "      <td>2.184886</td>\n",
       "      <td>2.0</td>\n",
       "      <td>17983312.0</td>\n",
       "      <td>5.0</td>\n",
       "      <td>1.0</td>\n",
       "      <td>0.432774</td>\n",
       "      <td>0.319814</td>\n",
       "      <td>0.289</td>\n",
       "    </tr>\n",
       "    <tr>\n",
       "      <th>2</th>\n",
       "      <td>1858000.0</td>\n",
       "      <td>50800.0</td>\n",
       "      <td>1.699056</td>\n",
       "      <td>67.396944</td>\n",
       "      <td>7.0</td>\n",
       "      <td>3.009844</td>\n",
       "      <td>1.0</td>\n",
       "      <td>240458015.0</td>\n",
       "      <td>5.0</td>\n",
       "      <td>3.0</td>\n",
       "      <td>0.100766</td>\n",
       "      <td>0.458972</td>\n",
       "      <td>0.660</td>\n",
       "    </tr>\n",
       "    <tr>\n",
       "      <th>3</th>\n",
       "      <td>11249000.0</td>\n",
       "      <td>20000.0</td>\n",
       "      <td>48.602426</td>\n",
       "      <td>4.934574</td>\n",
       "      <td>3.0</td>\n",
       "      <td>5.161899</td>\n",
       "      <td>1.0</td>\n",
       "      <td>9427882.0</td>\n",
       "      <td>4.0</td>\n",
       "      <td>1.0</td>\n",
       "      <td>0.289123</td>\n",
       "      <td>0.431853</td>\n",
       "      <td>0.178</td>\n",
       "    </tr>\n",
       "    <tr>\n",
       "      <th>4</th>\n",
       "      <td>78356000.0</td>\n",
       "      <td>612800.0</td>\n",
       "      <td>43.734006</td>\n",
       "      <td>28.635994</td>\n",
       "      <td>2.0</td>\n",
       "      <td>7.493090</td>\n",
       "      <td>1.0</td>\n",
       "      <td>50379814.0</td>\n",
       "      <td>5.0</td>\n",
       "      <td>1.0</td>\n",
       "      <td>0.499240</td>\n",
       "      <td>0.149555</td>\n",
       "      <td>0.460</td>\n",
       "    </tr>\n",
       "  </tbody>\n",
       "</table>\n",
       "</div>"
      ],
      "text/plain": [
       "   surface_area  armed_forces_total  urban_pop_major_cities  \\\n",
       "0    32246000.0             50800.0                0.846584   \n",
       "1    51312000.0            453550.0               42.139810   \n",
       "2     1858000.0             50800.0                1.699056   \n",
       "3    11249000.0             20000.0               48.602426   \n",
       "4    78356000.0            612800.0               43.734006   \n",
       "\n",
       "   urban_pop_minor_cities  national_income  inflation_annual  \\\n",
       "0               51.919416              3.0          2.569961   \n",
       "1                5.803190              3.0          2.184886   \n",
       "2               67.396944              7.0          3.009844   \n",
       "3                4.934574              3.0          5.161899   \n",
       "4               28.635994              2.0          7.493090   \n",
       "\n",
       "   mobile_subscriptions  secure_internet_servers_total  improved_sanitation  \\\n",
       "0                   1.0                      1849926.0                  1.0   \n",
       "1                   2.0                     17983312.0                  5.0   \n",
       "2                   1.0                    240458015.0                  5.0   \n",
       "3                   1.0                      9427882.0                  4.0   \n",
       "4                   1.0                     50379814.0                  5.0   \n",
       "\n",
       "   women_parliament_seats_rate  agricultural_portion  forest_portion  \\\n",
       "0                          1.0              0.647799        0.327101   \n",
       "1                          1.0              0.432774        0.319814   \n",
       "2                          3.0              0.100766        0.458972   \n",
       "3                          1.0              0.289123        0.431853   \n",
       "4                          1.0              0.499240        0.149555   \n",
       "\n",
       "   percent_internet_users  \n",
       "0                   0.084  \n",
       "1                   0.289  \n",
       "2                   0.660  \n",
       "3                   0.178  \n",
       "4                   0.460  "
      ]
     },
     "execution_count": 38,
     "metadata": {},
     "output_type": "execute_result"
    }
   ],
   "source": [
    "# Loading Test data\n",
    "\n",
    "test_data=pd.read_csv('test.csv',index_col=0)\n",
    "test_data.head(2)\n",
    "\n",
    "# Create a copy of test dataframe\n",
    "tdf = test_data.copy()\n",
    "\n",
    "# Step 1: Multiply 'surface_area' by 100\n",
    "tdf['surface_area'] = tdf['surface_area'] * 100\n",
    "\n",
    "# Step 2: Creates new variables \n",
    "tdf['agricultural_portion'] = tdf['agricultural_land'] / tdf['surface_area'] \n",
    "tdf['forest_portion'] = tdf['forest_area'] / tdf['surface_area']\n",
    "\n",
    "# Step 3: Remove 'agricultural_land' and 'forest_area' colums from dataset\n",
    "tdf.drop(['agricultural_land', 'forest_area'], axis=1, inplace=True)\n",
    "\n",
    "# Step 4: Replace missing values in column 'inflation_annual' with information from\n",
    "# columns 'inflation_monthly' & 'inflation_weekly'\n",
    "\n",
    "for i in tdf.index:\n",
    "    if np.isnan(tdf.loc[i, 'inflation_annual']):\n",
    "        if np.isnan(tdf.loc[i, 'inflation_monthly']):\n",
    "            tdf.loc[i, 'inflation_annual'] = 52 * tdf.loc[i, 'inflation_weekly']\n",
    "        else:\n",
    "            tdf.loc[i, 'inflation_annual'] = 12 * tdf.loc[i, 'inflation_monthly']\n",
    "\n",
    "# Step5: Remove columns 'inflation_monthly' & 'inflation_weekly'\n",
    "tdf.drop(['inflation_monthly', 'inflation_weekly'], axis=1, inplace=True)\n",
    "\n",
    "# Step6: Convert 'internet_users' column to associated percentages\n",
    "variable_split = tdf['internet_users'].str.split()\n",
    "tdf['percent_internet_users'] = (pd.to_numeric(variable_split.str.get(0), errors='coerce') / \n",
    "                          pd.to_numeric(variable_split.str.get(2), errors='coerce'))\n",
    "\n",
    "# Step 7: Remove 'internet_users' column\n",
    "tdf.drop('internet_users', axis=1, inplace=True)\n",
    "\n",
    "# Step 8: Assign \"mobile_subscriptions\" values to 1 if mobile subscriptions is\n",
    "# less than 1 per person, otherwise 2:\n",
    "tdf['mobile_subscriptions'] = [1 if x == 'less than 1 per person' else 2 for x in tdf['mobile_subscriptions']]\n",
    "\n",
    "# Step 9: Assign \"women_parliament_seats_rate\" to 1 if women _parliament seat _rate is\n",
    "# [0%-25%), 2 if it is [25%-75%), or 3 if unknown:\n",
    "\n",
    "tdf['women_parliament_seats_rate'] = (\n",
    "    tdf['women_parliament_seats_rate'].replace('[0%-25%)', 1))\n",
    "tdf['women_parliament_seats_rate'] = (\n",
    "    tdf['women_parliament_seats_rate'].replace('[25%-50%)', 2))\n",
    "tdf['women_parliament_seats_rate'] = (\n",
    "    tdf['women_parliament_seats_rate'].replace('[50%-75%)', 2))\n",
    "tdf['women_parliament_seats_rate'] = (\n",
    "    tdf['women_parliament_seats_rate'].replace('unknown', 3))\n",
    "\n",
    "# Step 10: Assign numeric values to the levels of \"national_income\" (ordinal variable):\n",
    "mapper_1 = {'very low': 1, 'medium low': 2, 'low': 3,\n",
    "            'medium high': 4, 'high': 5, 'very high': 6,\n",
    "            'unknown': 7}\n",
    "tdf['national_income'].replace(mapper_1, inplace=True)\n",
    "\n",
    "# Step 11: Assign numeric values to the levels of \"improved_sanitation\" (Ordinal Variable):\n",
    "mapper_2 = {'very low access': 1, 'low access': 2, 'medium access': 3,\n",
    "            'high access': 4, 'very high access': 5, 'no info': 6}\n",
    "tdf['improved_sanitation'].replace(mapper_2, inplace=True)\n",
    "\n",
    "# Step12: SimpleImputer missing values using Imputer in sklearn.preprocessing\n",
    "imp = SimpleImputer(missing_values=np.nan, strategy='median')\n",
    "imp.fit(tdf)\n",
    "tdf = pd.DataFrame(data=imp.transform(tdf) , columns=tdf.columns)\n",
    "\n",
    "# Show the first 5 rows of tdf\n",
    "tdf.head()"
   ]
  },
  {
   "cell_type": "markdown",
   "metadata": {},
   "source": [
    "### Random Forest Regression"
   ]
  },
  {
   "cell_type": "code",
   "execution_count": 39,
   "metadata": {},
   "outputs": [
    {
     "data": {
      "text/plain": [
       "0    69.494195\n",
       "1    59.237366\n",
       "2    81.300000\n",
       "3    81.373197\n",
       "4    73.193561\n",
       "Name: life_expectancy, dtype: float64"
      ]
     },
     "execution_count": 39,
     "metadata": {},
     "output_type": "execute_result"
    }
   ],
   "source": [
    "# Create outcome and input DataFrames\n",
    "\n",
    "y = df2['life_expectancy']\n",
    "\n",
    "X = df2.drop('life_expectancy', axis=1)\n",
    "\n",
    "y.head(5)"
   ]
  },
  {
   "cell_type": "code",
   "execution_count": 40,
   "metadata": {},
   "outputs": [],
   "source": [
    "# Create train and validation datasets to build the Random Forest (RF) regression\n",
    "# model and find the best set of the model parameters \n",
    "\n",
    "X_train, X_validation, y_train, y_validation= train_test_split(X, y,\n",
    "                                                 random_state = 0)"
   ]
  },
  {
   "cell_type": "code",
   "execution_count": 45,
   "metadata": {
    "scrolled": true
   },
   "outputs": [
    {
     "name": "stdout",
     "output_type": "stream",
     "text": [
      "Number of Estimators: 200\n",
      "Max features: 8\n",
      "Max Depth: 7\n",
      "Min Split: 4\n",
      "Min Leaf: 3\n",
      "Best Mean Absolute Error: 2.651\n"
     ]
    }
   ],
   "source": [
    "# Use 'Grid Search' to find the best set of RF regression parameters \n",
    "# using full dataset with criterion = 'mean absolute error' (mae) and \n",
    "# random_state = 33\n",
    "\n",
    "n_estimators = [50, 100, 150, 200]\n",
    "max_features = [4, 8, 13]\n",
    "max_depth = [5, 6, 7]\n",
    "min_split = [2, 3, 4] \n",
    "min_leaf = [1, 2, 3]\n",
    "best_score = 100\n",
    "\n",
    "for n in n_estimators:\n",
    "    for f in max_features:\n",
    "        for d in max_depth:\n",
    "            for s in min_split:   \n",
    "                for l in min_leaf:\n",
    "                     rf = RandomForestRegressor(\n",
    "                     n_estimators = n, \n",
    "                     criterion = 'mae', \n",
    "                     max_features= f,\n",
    "                     random_state = 33, \n",
    "                     oob_score = False,\n",
    "                     max_depth = d, min_samples_split = s, \n",
    "                     min_samples_leaf = l)\n",
    "            rf.fit (X_train, y_train)    \n",
    "#             y_model = rf.predict(X_validation)\n",
    "            #score = mean_absolute_error(y, y_model)\n",
    "            score = - np.mean(cross_val_score(rf, X_train, y_train, cv=4, scoring = 'neg_mean_absolute_error'))\n",
    "            if score <= best_score:\n",
    "                best_score = score\n",
    "                max_n = n\n",
    "                max_f = f\n",
    "                max_d = d\n",
    "                max_s = s\n",
    "                max_l = l\n",
    "\n",
    "\n",
    "print (\"Number of Estimators:\", max_n)               \n",
    "print (\"Max features:\", max_f)\n",
    "print (\"Max Depth:\", max_d)\n",
    "print (\"Min Split:\", max_s)\n",
    "print (\"Min Leaf:\", max_l)\n",
    "print(\"Best Mean Absolute Error: {:.3f}\".format(best_score))"
   ]
  },
  {
   "cell_type": "code",
   "execution_count": 46,
   "metadata": {},
   "outputs": [
    {
     "data": {
      "text/plain": [
       "RandomForestRegressor(bootstrap=True, ccp_alpha=0.0, criterion='mae',\n",
       "                      max_depth=7, max_features=8, max_leaf_nodes=None,\n",
       "                      max_samples=None, min_impurity_decrease=0.0,\n",
       "                      min_impurity_split=None, min_samples_leaf=3,\n",
       "                      min_samples_split=4, min_weight_fraction_leaf=0.0,\n",
       "                      n_estimators=200, n_jobs=None, oob_score=False,\n",
       "                      random_state=33, verbose=0, warm_start=False)"
      ]
     },
     "execution_count": 46,
     "metadata": {},
     "output_type": "execute_result"
    }
   ],
   "source": [
    "# Fit a RF using best indentified parameters\n",
    "\n",
    "rf = RandomForestRegressor(n_estimators=200, criterion = 'mae', max_features=8, random_state = 33,\n",
    "                           max_depth=7, min_samples_split=4, min_samples_leaf=3)\n",
    "\n",
    "rf.fit(X_train, y_train)"
   ]
  },
  {
   "cell_type": "code",
   "execution_count": 48,
   "metadata": {
    "scrolled": true
   },
   "outputs": [
    {
     "data": {
      "text/plain": [
       "array([76.66900612, 73.22093943, 75.03212154, 73.05430718, 61.18293793,\n",
       "       73.53661498, 77.46693108, 80.55946154, 80.08711288, 78.64510389,\n",
       "       75.80256246, 78.49408527, 80.49830732, 76.65904528, 66.617168  ,\n",
       "       60.01222654, 75.73729697, 64.02529459, 75.17756568, 71.30152711,\n",
       "       61.75651351, 57.32508376, 66.30748968, 74.32672543, 65.85878837,\n",
       "       74.01906991, 60.65795942, 77.36309167, 72.44287265, 77.97266507,\n",
       "       63.139498  , 71.71291965, 60.54591558, 74.37089729, 74.34344334,\n",
       "       74.00858217, 58.04099112, 80.90235994, 74.11101367, 79.032921  ,\n",
       "       62.34436193, 68.29825167, 79.71873992, 74.535426  , 80.18980968,\n",
       "       59.72348313, 81.45931855, 70.80684825, 71.97262625, 80.89267779,\n",
       "       77.46885188, 59.90407462, 72.01826614, 72.13935057, 64.21301908,\n",
       "       76.85470199, 76.8973111 , 72.07743624, 74.51888528, 75.79973201,\n",
       "       73.42243283, 78.62819561, 80.58273991, 74.13116473, 81.07692939,\n",
       "       77.93045835, 57.46389171, 61.06715278, 61.24054294, 77.61760146,\n",
       "       68.01505551, 69.44669459, 78.14946252, 64.32999786, 62.59473045,\n",
       "       78.84997262, 65.2359586 , 75.33710861, 72.64008699, 80.56986432,\n",
       "       72.4118124 , 76.49779011, 58.59759236, 76.54000906, 61.03845855,\n",
       "       70.6481321 , 59.20940852, 81.31612583, 72.05511192, 74.30397213,\n",
       "       60.67755581])"
      ]
     },
     "execution_count": 48,
     "metadata": {},
     "output_type": "execute_result"
    }
   ],
   "source": [
    "# Predict test instances using test dataframe (tdf)\n",
    "\n",
    "y_predict_RF = rf.predict(X_validation)\n",
    "y_predict_RF"
   ]
  },
  {
   "cell_type": "code",
   "execution_count": 50,
   "metadata": {},
   "outputs": [
    {
     "data": {
      "text/plain": [
       "2.4406442133456037"
      ]
     },
     "execution_count": 50,
     "metadata": {},
     "output_type": "execute_result"
    }
   ],
   "source": [
    "score_RF = mean_absolute_error(y_validation, y_predict_RF)\n",
    "score_RF"
   ]
  },
  {
   "cell_type": "code",
   "execution_count": 52,
   "metadata": {},
   "outputs": [],
   "source": [
    "# Plot histograms to compare distribution of actual outcomes vs. prediction \n",
    "def plot_histogram_comp(x,y):\n",
    "    plt.hist(x, alpha=0.5, edgecolor='black', label='Actual')\n",
    "    plt.hist(y, alpha=0.5, edgecolor='black', label='Prediction')\n",
    "    plt.title(\"Histogram of actual outcomes v.s predicted outcomes\")\n",
    "    plt.xlabel(\"Value\")\n",
    "    plt.ylabel(\"Frequency\")\n",
    "    plt.legend(loc='upper left')\n",
    "    plt.show()"
   ]
  },
  {
   "cell_type": "code",
   "execution_count": 53,
   "metadata": {},
   "outputs": [
    {
     "data": {
      "image/png": "[encoded data removed]",
      "text/plain": [
       "<Figure size 432x288 with 1 Axes>"
      ]
     },
     "metadata": {
      "needs_background": "light"
     },
     "output_type": "display_data"
    }
   ],
   "source": [
    "# Check to see if distribution of actual target values is close to the distribution\n",
    "# of predicted target values\n",
    "\n",
    "plot_histogram_comp(y_validation,y_predict_RF)"
   ]
  },
  {
   "cell_type": "markdown",
   "metadata": {},
   "source": [
    "**The government wants to know what are the most important features for your model.  Can you tell them?**\n",
    "\n",
    "> #### Task:\n",
    "- **Visualize the top 13 features and their feature importance.**\n"
   ]
  },
  {
   "cell_type": "code",
   "execution_count": 54,
   "metadata": {
    "scrolled": true
   },
   "outputs": [
    {
     "data": {
      "text/plain": [
       "<matplotlib.axes._subplots.AxesSubplot at 0x7febb72b6e90>"
      ]
     },
     "execution_count": 54,
     "metadata": {},
     "output_type": "execute_result"
    },
    {
     "data": {
      "image/png": "[encoded data removed]",
      "text/plain": [
       "<Figure size 504x288 with 1 Axes>"
      ]
     },
     "metadata": {
      "needs_background": "light"
     },
     "output_type": "display_data"
    }
   ],
   "source": [
    "# Extract feature importance determined by RF model\n",
    "\n",
    "feature_imp = pd.Series(rf.feature_importances_, index=X_train.columns)\n",
    "feature_imp.sort_values(ascending=True, inplace=True)\n",
    "\n",
    "# Creating a bar plot\n",
    "feature_imp.plot(kind='barh', width=0.8, figsize=(7,4))"
   ]
  },
  {
   "cell_type": "markdown",
   "metadata": {},
   "source": [
    "### Gradient boosting Regression"
   ]
  },
  {
   "cell_type": "code",
   "execution_count": 56,
   "metadata": {},
   "outputs": [
    {
     "name": "stdout",
     "output_type": "stream",
     "text": [
      "Number of Estimators: 200\n",
      "Max features: 4\n",
      "Max Depth: 7\n",
      "Min Split: 4\n",
      "Min Leaf: 3\n",
      "Best Mean Absolute Error: 2.629\n"
     ]
    }
   ],
   "source": [
    "# Use 'Grid Search' to find the best set of GB regression parameters \n",
    "# using full dataset with criterion = 'mean absolute error' (mae) and \n",
    "# random_state = 33\n",
    "\n",
    "n_estimators = [50, 100, 150, 200]\n",
    "max_features = [4, 8, 13]\n",
    "max_depth = [5, 6, 7]\n",
    "min_split = [2, 3, 4] \n",
    "min_leaf = [1, 2, 3]\n",
    "best_score = 100\n",
    "\n",
    "for n in n_estimators:\n",
    "    for f in max_features:\n",
    "        for d in max_depth:\n",
    "            for s in min_split:   \n",
    "                for l in min_leaf:\n",
    "                     gb = GradientBoostingRegressor(\n",
    "                     n_estimators = n, \n",
    "                     criterion = 'mae', # mean absolute error\n",
    "                     max_features= f,\n",
    "                     random_state = 33,\n",
    "                     max_depth = d, min_samples_split = s, \n",
    "                     min_samples_leaf = l)\n",
    "            gb.fit (X_train, y_train)    \n",
    "#             y_model = rf.predict(X_validation)\n",
    "            #score = mean_absolute_error(y, y_model)\n",
    "            score = - np.mean(cross_val_score(gb, X_train, y_train, cv=4, scoring = 'mean_squared_error'))\n",
    "            if score <= best_score:\n",
    "                best_score = score\n",
    "                max_n = n\n",
    "                max_f = f\n",
    "                max_d = d\n",
    "                max_s = s\n",
    "                max_l = l\n",
    "\n",
    "\n",
    "print (\"Number of Estimators:\", max_n)               \n",
    "print (\"Max features:\", max_f)\n",
    "print (\"Max Depth:\", max_d)\n",
    "print (\"Min Split:\", max_s)\n",
    "print (\"Min Leaf:\", max_l)\n",
    "print(\"Best Mean Absolute Error: {:.3f}\".format(best_score))"
   ]
  },
  {
   "cell_type": "code",
   "execution_count": 57,
   "metadata": {},
   "outputs": [
    {
     "data": {
      "text/plain": [
       "GradientBoostingRegressor(alpha=0.9, ccp_alpha=0.0, criterion='mae', init=None,\n",
       "                          learning_rate=0.1, loss='ls', max_depth=7,\n",
       "                          max_features=4, max_leaf_nodes=None,\n",
       "                          min_impurity_decrease=0.0, min_impurity_split=None,\n",
       "                          min_samples_leaf=3, min_samples_split=4,\n",
       "                          min_weight_fraction_leaf=0.0, n_estimators=200,\n",
       "                          n_iter_no_change=None, presort='deprecated',\n",
       "                          random_state=33, subsample=1.0, tol=0.0001,\n",
       "                          validation_fraction=0.1, verbose=0, warm_start=False)"
      ]
     },
     "execution_count": 57,
     "metadata": {},
     "output_type": "execute_result"
    }
   ],
   "source": [
    "# Fit a RF using best indentified parameters\n",
    "\n",
    "gb = GradientBoostingRegressor(n_estimators=200, criterion = 'mae', max_features=4, random_state = 33,\n",
    "                           max_depth=7, min_samples_split=4, min_samples_leaf=3)\n",
    "\n",
    "gb.fit(X_train, y_train)"
   ]
  },
  {
   "cell_type": "code",
   "execution_count": 59,
   "metadata": {},
   "outputs": [
    {
     "data": {
      "text/plain": [
       "array([76.28113134, 72.42173803, 76.20186915, 75.22159287, 63.17184677,\n",
       "       73.40716347, 77.03827807, 80.16237169, 79.85424575, 77.20731323,\n",
       "       76.75690759, 79.24266154, 80.14539286, 77.86434382, 68.99859716,\n",
       "       60.84700269, 75.87541332, 61.27629413, 75.79418075, 71.95127579,\n",
       "       60.99213692, 57.12200651, 65.5825839 , 74.93086767, 67.21514028,\n",
       "       74.11452108, 60.81977301, 78.82938651, 73.33575438, 78.62954871,\n",
       "       66.7113169 , 71.1161632 , 60.4195253 , 73.94588626, 74.17815863,\n",
       "       70.89638391, 58.01643704, 80.44463959, 72.67576324, 79.82927047,\n",
       "       65.08233206, 69.24576507, 79.59499296, 75.83801645, 79.95199994,\n",
       "       51.42667458, 81.41821912, 71.19134502, 72.75753454, 80.94814421,\n",
       "       79.37584167, 59.77313709, 72.62979753, 74.27654954, 65.95186411,\n",
       "       76.88000096, 76.92819746, 72.23093583, 75.73353853, 74.87651302,\n",
       "       70.6696771 , 79.4486216 , 80.96500296, 74.30112168, 81.29340387,\n",
       "       79.33189422, 53.35589774, 62.21487713, 62.70031131, 77.61066651,\n",
       "       67.74779896, 67.64549922, 79.49369602, 66.28605833, 66.73132185,\n",
       "       78.22220139, 66.48542866, 76.14043541, 70.54908125, 80.48600477,\n",
       "       75.0822977 , 73.76839053, 59.44315603, 76.59434919, 62.06035972,\n",
       "       72.18998085, 58.81191606, 81.81250778, 72.3805651 , 74.28454356,\n",
       "       59.37718647])"
      ]
     },
     "execution_count": 59,
     "metadata": {},
     "output_type": "execute_result"
    }
   ],
   "source": [
    "# Predict test instances using test dataframe (tdf)\n",
    "\n",
    "y_prediction_GB = gb.predict(X_validation)\n",
    "y_prediction_GB"
   ]
  },
  {
   "cell_type": "code",
   "execution_count": 72,
   "metadata": {},
   "outputs": [
    {
     "data": {
      "text/plain": [
       "<matplotlib.axes._subplots.AxesSubplot at 0x7febb8cdbad0>"
      ]
     },
     "execution_count": 72,
     "metadata": {},
     "output_type": "execute_result"
    },
    {
     "data": {
      "image/png": "[encoded data removed]",
      "text/plain": [
       "<Figure size 504x288 with 1 Axes>"
      ]
     },
     "metadata": {
      "needs_background": "light"
     },
     "output_type": "display_data"
    }
   ],
   "source": [
    "# Extract feature importance determined by RF model\n",
    "\n",
    "feature_imp = pd.Series(gb.feature_importances_, index=X_train.columns)\n",
    "feature_imp.sort_values(ascending=True, inplace=True)\n",
    "\n",
    "# Creating a bar plot\n",
    "feature_imp.plot(kind='barh', width=0.8, figsize=(7,4))"
   ]
  },
  {
   "cell_type": "code",
   "execution_count": 62,
   "metadata": {},
   "outputs": [
    {
     "data": {
      "image/png": "[encoded data removed]",
      "text/plain": [
       "<Figure size 432x288 with 1 Axes>"
      ]
     },
     "metadata": {
      "needs_background": "light"
     },
     "output_type": "display_data"
    }
   ],
   "source": [
    "# Check to see if distribution of actual target values is close to the distribution\n",
    "# of predicted target values\n",
    "\n",
    "plot_histogram_comp(y_validation, y_prediction_GB)"
   ]
  },
  {
   "cell_type": "code",
   "execution_count": 64,
   "metadata": {},
   "outputs": [
    {
     "data": {
      "text/plain": [
       "2.157691415391827"
      ]
     },
     "execution_count": 64,
     "metadata": {},
     "output_type": "execute_result"
    }
   ],
   "source": [
    "score_RF = mean_absolute_error(y_validation, y_prediction_GB)\n",
    "score_RF"
   ]
  },
  {
   "cell_type": "markdown",
   "metadata": {},
   "source": [
    "**Видим, что градиентный бустинг показывает лучшее качество по средней абсолютной ошибке.**<br>\n",
    "**Построим графики для визуального сравнения результатом двух алгоритмов.**"
   ]
  },
  {
   "cell_type": "code",
   "execution_count": 65,
   "metadata": {},
   "outputs": [
    {
     "data": {
      "text/plain": [
       "Text(0.5, 1.0, 'GradientBoostingRegressor')"
      ]
     },
     "execution_count": 65,
     "metadata": {},
     "output_type": "execute_result"
    },
    {
     "data": {
      "image/png": "[encoded data removed]",
      "text/plain": [
       "<Figure size 1152x432 with 2 Axes>"
      ]
     },
     "metadata": {
      "needs_background": "light"
     },
     "output_type": "display_data"
    }
   ],
   "source": [
    "pylab.figure(figsize=(16, 6))\n",
    "\n",
    "pylab.subplot(1,2,1)\n",
    "pylab.grid(True)\n",
    "pylab.xlim(50,85)\n",
    "pylab.ylim(50,85)\n",
    "pylab.scatter(y_train, rf.predict(X_train) , alpha=0.5, color = 'red') # на обучении\n",
    "pylab.scatter(y_validation, rf.predict(X_validation) , alpha=0.5, color = 'blue') # на тесте\n",
    "pylab.title('RandomForestRegressor')\n",
    "\n",
    "pylab.subplot(1,2,2)\n",
    "pylab.grid(True)\n",
    "pylab.xlim(50,85)\n",
    "pylab.ylim(50,85)\n",
    "pylab.scatter(y_train, gb.predict(X_train), alpha=0.5, color = 'red') # на обучении\n",
    "pylab.scatter(y_validation, gb.predict(X_validation), alpha=0.5, color = 'blue') # на тесте\n",
    "pylab.title('GradientBoostingRegressor')"
   ]
  },
  {
   "cell_type": "markdown",
   "metadata": {},
   "source": [
    "> #### Task:\n",
    "- **Submit the predictions on the test dataset using your optimized model** <br/>\n",
    "    For each record in the test set (`Test.csv`), you must predict the value of the `life_expectancy` variable. You should submit a CSV file with a header row and one row per test entry. The file (submissions.csv) should have exactly 2 columns:\n",
    "\n",
    "The file (`submissions.csv`) should have exactly 2 columns:\n",
    "   - **id**\n",
    "   - **life_expectancy**"
   ]
  },
  {
   "cell_type": "code",
   "execution_count": 70,
   "metadata": {},
   "outputs": [
    {
     "data": {
      "text/html": [
       "<div>\n",
       "<style scoped>\n",
       "    .dataframe tbody tr th:only-of-type {\n",
       "        vertical-align: middle;\n",
       "    }\n",
       "\n",
       "    .dataframe tbody tr th {\n",
       "        vertical-align: top;\n",
       "    }\n",
       "\n",
       "    .dataframe thead th {\n",
       "        text-align: right;\n",
       "    }\n",
       "</style>\n",
       "<table border=\"1\" class=\"dataframe\">\n",
       "  <thead>\n",
       "    <tr style=\"text-align: right;\">\n",
       "      <th></th>\n",
       "      <th>id</th>\n",
       "      <th>life_expectancy</th>\n",
       "    </tr>\n",
       "  </thead>\n",
       "  <tbody>\n",
       "    <tr>\n",
       "      <th>0</th>\n",
       "      <td>9</td>\n",
       "      <td>60.804544</td>\n",
       "    </tr>\n",
       "    <tr>\n",
       "      <th>1</th>\n",
       "      <td>16</td>\n",
       "      <td>73.732175</td>\n",
       "    </tr>\n",
       "    <tr>\n",
       "      <th>2</th>\n",
       "      <td>19</td>\n",
       "      <td>77.770190</td>\n",
       "    </tr>\n",
       "    <tr>\n",
       "      <th>3</th>\n",
       "      <td>23</td>\n",
       "      <td>70.414699</td>\n",
       "    </tr>\n",
       "    <tr>\n",
       "      <th>4</th>\n",
       "      <td>28</td>\n",
       "      <td>70.746146</td>\n",
       "    </tr>\n",
       "    <tr>\n",
       "      <th>...</th>\n",
       "      <td>...</td>\n",
       "      <td>...</td>\n",
       "    </tr>\n",
       "    <tr>\n",
       "      <th>95</th>\n",
       "      <td>433</td>\n",
       "      <td>56.034110</td>\n",
       "    </tr>\n",
       "    <tr>\n",
       "      <th>96</th>\n",
       "      <td>441</td>\n",
       "      <td>79.731037</td>\n",
       "    </tr>\n",
       "    <tr>\n",
       "      <th>97</th>\n",
       "      <td>443</td>\n",
       "      <td>70.826918</td>\n",
       "    </tr>\n",
       "    <tr>\n",
       "      <th>98</th>\n",
       "      <td>453</td>\n",
       "      <td>68.343669</td>\n",
       "    </tr>\n",
       "    <tr>\n",
       "      <th>99</th>\n",
       "      <td>455</td>\n",
       "      <td>64.762291</td>\n",
       "    </tr>\n",
       "  </tbody>\n",
       "</table>\n",
       "<p>100 rows × 2 columns</p>\n",
       "</div>"
      ],
      "text/plain": [
       "     id  life_expectancy\n",
       "0     9        60.804544\n",
       "1    16        73.732175\n",
       "2    19        77.770190\n",
       "3    23        70.414699\n",
       "4    28        70.746146\n",
       "..  ...              ...\n",
       "95  433        56.034110\n",
       "96  441        79.731037\n",
       "97  443        70.826918\n",
       "98  453        68.343669\n",
       "99  455        64.762291\n",
       "\n",
       "[100 rows x 2 columns]"
      ]
     },
     "execution_count": 70,
     "metadata": {},
     "output_type": "execute_result"
    }
   ],
   "source": [
    "# Create a submission_df\n",
    "y_predict = gb.predict(tdf)\n",
    "d = {'id': test_data.index, 'life_expectancy': y_predict}\n",
    "submission_df = pd.DataFrame(data=d)\n",
    "submission_df"
   ]
  },
  {
   "cell_type": "code",
   "execution_count": 71,
   "metadata": {},
   "outputs": [],
   "source": [
    "# Submission\n",
    "\n",
    "submission_df.to_csv('submissions.csv',index=False)"
   ]
  },
  {
   "cell_type": "code",
   "execution_count": null,
   "metadata": {},
   "outputs": [],
   "source": []
  }
 ],
 "metadata": {
  "kernelspec": {
   "display_name": "Python 3",
   "language": "python",
   "name": "python3"
  },
  "language_info": {
   "codemirror_mode": {
    "name": "ipython",
    "version": 3
   },
   "file_extension": ".py",
   "mimetype": "text/x-python",
   "name": "python",
   "nbconvert_exporter": "python",
   "pygments_lexer": "ipython3",
   "version": "3.7.6"
  }
 },
 "nbformat": 4,
 "nbformat_minor": 4
}
